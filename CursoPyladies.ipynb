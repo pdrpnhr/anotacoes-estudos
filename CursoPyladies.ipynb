{
 "cells": [
  {
   "cell_type": "markdown",
   "metadata": {},
   "source": [
    "# Introdução"
   ]
  },
  {
   "cell_type": "code",
   "execution_count": 1,
   "metadata": {},
   "outputs": [
    {
     "name": "stdout",
     "output_type": "stream",
     "text": [
      "The Zen of Python, by Tim Peters\n",
      "\n",
      "Beautiful is better than ugly.\n",
      "Explicit is better than implicit.\n",
      "Simple is better than complex.\n",
      "Complex is better than complicated.\n",
      "Flat is better than nested.\n",
      "Sparse is better than dense.\n",
      "Readability counts.\n",
      "Special cases aren't special enough to break the rules.\n",
      "Although practicality beats purity.\n",
      "Errors should never pass silently.\n",
      "Unless explicitly silenced.\n",
      "In the face of ambiguity, refuse the temptation to guess.\n",
      "There should be one-- and preferably only one --obvious way to do it.\n",
      "Although that way may not be obvious at first unless you're Dutch.\n",
      "Now is better than never.\n",
      "Although never is often better than *right* now.\n",
      "If the implementation is hard to explain, it's a bad idea.\n",
      "If the implementation is easy to explain, it may be a good idea.\n",
      "Namespaces are one honking great idea -- let's do more of those!\n"
     ]
    }
   ],
   "source": [
    "import this"
   ]
  },
  {
   "cell_type": "code",
   "execution_count": 2,
   "metadata": {},
   "outputs": [],
   "source": [
    "%%capture\n",
    "%%pip install emoji"
   ]
  },
  {
   "cell_type": "code",
   "execution_count": 3,
   "metadata": {},
   "outputs": [
    {
     "name": "stdout",
     "output_type": "stream",
     "text": [
      " Este treinamento está sendo útil?\n",
      "      - SIM 😍\n",
      "      - NÃO 😲\n",
      "      \n"
     ]
    }
   ],
   "source": [
    "import emoji\n",
    "\n",
    "print(f\"\"\" Este treinamento está sendo útil?\n",
    "      {emoji.emojize(\"- SIM :heart_eyes:\", language=\"alias\")}\n",
    "      {emoji.emojize(\"- NÃO :astonished:\", language=\"alias\")}\n",
    "      \"\"\")"
   ]
  },
  {
   "cell_type": "markdown",
   "metadata": {},
   "source": [
    "# Sintaxe"
   ]
  },
  {
   "cell_type": "markdown",
   "metadata": {},
   "source": [
    "## Variáveis\n",
    "\n",
    "- Devem ter sido inicializadas (declaradas?) antes de serem usadas, não existe uma criação automática de variáveis (no Python ou em todas as linguagens de programação?)\n",
    "- Tipagem dinâmica: quando você passa o valor da variável sem informar o tipo, e o Python identifica automaticamente."
   ]
  },
  {
   "cell_type": "code",
   "execution_count": 8,
   "metadata": {},
   "outputs": [
    {
     "name": "stdout",
     "output_type": "stream",
     "text": [
      "10, tipo: <class 'int'>\n",
      "2.0, tipo: <class 'float'>\n"
     ]
    }
   ],
   "source": [
    "# Formas de atribuir valores:\n",
    "\n",
    "a, b = 10, 2.0\n",
    "print (f\"{a}, tipo: {type(a)}\")\n",
    "print (f\"{b}, tipo: {type(b)}\")"
   ]
  },
  {
   "cell_type": "markdown",
   "metadata": {},
   "source": [
    "Nesse caso, estou entendendo que type() me diz o tipo que o Python atribuiu à variável, sendo \"a\" uma integral e \"b\", um decimal (float, no Python)."
   ]
  },
  {
   "cell_type": "markdown",
   "metadata": {},
   "source": [
    "### Saídas e entradas"
   ]
  },
  {
   "cell_type": "markdown",
   "metadata": {},
   "source": [
    "- input(): Serve para armazenar um valor numa determinada variável\n",
    "- print(): É tipo um output, exibe o resultado da variável"
   ]
  },
  {
   "cell_type": "code",
   "execution_count": 9,
   "metadata": {},
   "outputs": [],
   "source": [
    "nome = input(\"Qual seu nome? \")"
   ]
  }
 ],
 "metadata": {
  "kernelspec": {
   "display_name": "Python 3",
   "language": "python",
   "name": "python3"
  },
  "language_info": {
   "codemirror_mode": {
    "name": "ipython",
    "version": 3
   },
   "file_extension": ".py",
   "mimetype": "text/x-python",
   "name": "python",
   "nbconvert_exporter": "python",
   "pygments_lexer": "ipython3",
   "version": "3.11.9"
  }
 },
 "nbformat": 4,
 "nbformat_minor": 2
}
